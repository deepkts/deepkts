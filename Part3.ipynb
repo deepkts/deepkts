{
  "cells": [
    {
      "cell_type": "markdown",
      "metadata": {
        "id": "view-in-github",
        "colab_type": "text"
      },
      "source": [
        "<a href=\"https://colab.research.google.com/github/deepkts/deepkts/blob/main/Part3.ipynb\" target=\"_parent\"><img src=\"https://colab.research.google.com/assets/colab-badge.svg\" alt=\"Open In Colab\"/></a>"
      ]
    },
    {
      "cell_type": "markdown",
      "id": "53aa500e",
      "metadata": {
        "id": "53aa500e"
      },
      "source": [
        "# 확인하세요!\n",
        "\n",
        "### 제출 전에 모든 코드가 순차적으로 잘 작동하는지 확인하세요. \n",
        "- **커널을 다시 시작**한 다음(메뉴바에서 Kernel$\\rightarrow$Restart 선택) **모든 셀을 실행**해 보세요(메뉴바에서 Cell$\\rightarrow$Run All 선택).\n",
        "\n",
        "### 지정 셀의 지정 영역에서만 코드를 작성했는지 확인하세요.\n",
        "- `YOUR CODE HERE`이 적혀 있는 셀에 대한 코드만 채점에 반영됩니다.\n",
        "- `YOUR CODE HERE` ~ `YOUR CODE ENDS HERE` 사이에 본인의 코드를 작성하세요.\n",
        "- 지정 셀 이외에 본인이 코드 실행 결과를 확인하기 위한 용도로 셀을 추가해도 됩니다.\n",
        "    - **제출 시 지정 셀에서는 정답 이외에 결과 확인을 위한 코드 등은 제거하고 제출해 주세요!**\n",
        "    - **기존 셀을 삭제하지 마세요! 채점에 불이익이 있을 수 있습니다.**\n",
        "\n",
        "### 제출 방법\n",
        "- 시간 내에 문제를 풀고, 본인의 github repo에 push 하세요.\n",
        "    - **디렉토리 구조가 변하면 안 됩니다.** `codestates/ds-sc2xx`와 디렉토리 구조가 동일해야 합니다. 답안 파일의 이름을 변경하지 않았는지, 기존에 없던 폴더가 추가되지 않았는지 등을 확인하세요.\n",
        "    - **코드스테이츠 가입 시 연동한 github 계정을 사용해야 합니다.**\n",
        "    - **branch를 변경하여 작업하지 마세요.**\n",
        "        - `master` branch에의 제출 사항에 대해서만 평가합니다.\n",
        "        - 본인의 github repo `master` branch에 제출이 잘 되어 있는지 확인하세요."
      ]
    },
    {
      "cell_type": "markdown",
      "id": "568e06cc",
      "metadata": {
        "id": "568e06cc"
      },
      "source": [
        "---"
      ]
    },
    {
      "cell_type": "markdown",
      "id": "6f4f7cc5",
      "metadata": {
        "deletable": false,
        "editable": false,
        "nbgrader": {
          "cell_type": "markdown",
          "checksum": "cf46d5569d9abbc5bd627a763dfcdf8f",
          "grade": false,
          "grade_id": "cell-5b7fa4769535997c",
          "locked": true,
          "schema_version": 3,
          "solution": false,
          "task": false
        },
        "id": "6f4f7cc5"
      },
      "source": [
        "# SC22x\n",
        " "
      ]
    },
    {
      "cell_type": "markdown",
      "id": "6b9c8083",
      "metadata": {
        "deletable": false,
        "editable": false,
        "nbgrader": {
          "cell_type": "markdown",
          "checksum": "bdc0145596fe2a567065d26e36cdc30e",
          "grade": false,
          "grade_id": "cell-f75742bcbc000238",
          "locked": true,
          "schema_version": 3,
          "solution": false,
          "task": false
        },
        "id": "6b9c8083"
      },
      "source": [
        "# Part 3 - Confusion Matrix\n"
      ]
    },
    {
      "cell_type": "markdown",
      "id": "ac54cd66",
      "metadata": {
        "deletable": false,
        "editable": false,
        "nbgrader": {
          "cell_type": "markdown",
          "checksum": "dd87e482b11385916ff95502caa5605b",
          "grade": false,
          "grade_id": "cell-ef9a7f73c3782e7d",
          "locked": true,
          "schema_version": 3,
          "solution": false,
          "task": false
        },
        "id": "ac54cd66"
      },
      "source": [
        "## 3.1 Confusion Matrix 계산\n",
        "- sklearn 라이브러리를 사용하지 않고, 이진분류 모델의 y_pred, y_real로부터 TP, TN, FP, FN의 수를 구하는 `confusion_matrix` 함수를 작성하세요.\n",
        "- y_pred, y_real은 길이($\\ge2$)가 동일하고 값이 0 또는 1인 리스트입니다.\n",
        "- 1을 Positive, 0을 Negative로 가정합니다."
      ]
    },
    {
      "cell_type": "code",
      "execution_count": 9,
      "id": "afd3c6b3",
      "metadata": {
        "deletable": false,
        "nbgrader": {
          "cell_type": "code",
          "checksum": "051ef5e2c9a05d57d3608ab402a9095a",
          "grade": false,
          "grade_id": "3-1",
          "locked": false,
          "schema_version": 3,
          "solution": true,
          "task": false
        },
        "id": "afd3c6b3"
      },
      "outputs": [],
      "source": [
        "import numpy as np\n",
        "\n",
        "\n",
        "def confusion_matrix(y_pred, y_real):\n",
        "    tp, tn, fp, fn = -1, -1, -1, -1\n",
        "\n",
        "    tp = sum((y_pred == 1) & (y_real == 1))\n",
        "    # YOUR CODE HERE\n",
        "    tn = sum((y_pred == 0) & (y_real == 0))\n",
        "    fp = sum((y_pred == 0) & (y_real == 1))\n",
        "    fn = sum((y_pred == 1) & (y_real == 0))\n",
        "    \n",
        "    # YOUR CODE ENDS HERE\n",
        "\n",
        "    return tp, tn, fp, fn"
      ]
    },
    {
      "cell_type": "code",
      "execution_count": 10,
      "id": "e758c132",
      "metadata": {
        "deletable": false,
        "editable": false,
        "nbgrader": {
          "cell_type": "code",
          "checksum": "cbd808c96379067be7897069eb7b211a",
          "grade": true,
          "grade_id": "3-1_test",
          "locked": true,
          "points": 1,
          "schema_version": 3,
          "solution": false,
          "task": false
        },
        "colab": {
          "base_uri": "https://localhost:8080/"
        },
        "id": "e758c132",
        "outputId": "1ba128d9-4be2-4e0d-ffcd-2b40445976a2"
      },
      "outputs": [
        {
          "output_type": "stream",
          "name": "stdout",
          "text": [
            "(TP, TN, FP, FN) = (8, 5, 3, 4)\n"
          ]
        }
      ],
      "source": [
        "y_pred = np.array([0, 1, 1, 1, 1, 1, 1, 1, 1, 0, 1, 0, 1, 1, 0, 0, 0, 0, 0, 1])\n",
        "y_real = np.array([1, 1, 1, 1, 1, 1, 1, 1, 0, 1, 1, 1, 0, 0, 0, 0, 0, 0, 0, 0])\n",
        "tp, tn, fp, fn = confusion_matrix(y_pred, y_real)\n",
        "print(f\"(TP, TN, FP, FN) = ({tp}, {tn}, {fp}, {fn})\")"
      ]
    },
    {
      "cell_type": "markdown",
      "id": "65f4992d",
      "metadata": {
        "deletable": false,
        "editable": false,
        "nbgrader": {
          "cell_type": "markdown",
          "checksum": "a842b408ec80e18749cfdaf212e8177f",
          "grade": false,
          "grade_id": "cell-ea0d320bf8164776",
          "locked": true,
          "schema_version": 3,
          "solution": false,
          "task": false
        },
        "id": "65f4992d"
      },
      "source": [
        "### 3.2 Accuracy, Precision, Recall, F1 계산\n",
        "- sklearn 라이브러리를 사용하지 않고, 이진분류 모델의 y_pred, y_real로부터 Accuracy, Precision, Recall, F1을 구하는 `calculate_performances` 함수를 작성하세요.\n",
        "- Accuracy, Precision, Recall은 모두 항상 양수라고 가정해도 됩니다."
      ]
    },
    {
      "cell_type": "code",
      "execution_count": 15,
      "id": "1bdbe23a",
      "metadata": {
        "deletable": false,
        "nbgrader": {
          "cell_type": "code",
          "checksum": "d188249f680d412857d83ba3b0a53a2d",
          "grade": false,
          "grade_id": "3-2",
          "locked": false,
          "schema_version": 3,
          "solution": true,
          "task": false
        },
        "id": "1bdbe23a"
      },
      "outputs": [],
      "source": [
        "def calculate_performances(y_pred, y_real):\n",
        "    accuracy = 0\n",
        "    precision = 0\n",
        "    recall = 0\n",
        "    f1 = 0\n",
        "\n",
        "    tp, tn, fp, fn = confusion_matrix(y_pred, y_real)\n",
        "    # YOUR CODE HERE\n",
        "    accuracy = (tp + tn) / (tp + tn + fn + fp)\n",
        "    precision = tp / (tp + fp)\n",
        "    recall = tp / (tp + fn)\n",
        "    f1 = 2 * ((precision*recall)/(precision + recall))\n",
        "    # YOUR CODE ENDS HERE\n",
        "\n",
        "    return accuracy, precision, recall, f1"
      ]
    },
    {
      "cell_type": "code",
      "execution_count": 16,
      "id": "f7e408e2",
      "metadata": {
        "deletable": false,
        "editable": false,
        "nbgrader": {
          "cell_type": "code",
          "checksum": "cbe26f23b44636b5f346a90c1f5b0622",
          "grade": true,
          "grade_id": "3-2_test",
          "locked": true,
          "points": 1,
          "schema_version": 3,
          "solution": false,
          "task": false
        },
        "colab": {
          "base_uri": "https://localhost:8080/"
        },
        "id": "f7e408e2",
        "outputId": "8be2da6d-7ffe-47a5-ae7d-75a109c7796d"
      },
      "outputs": [
        {
          "output_type": "stream",
          "name": "stdout",
          "text": [
            "Accuracy: 0.65\n",
            "Precision: 0.7272727272727273\n",
            "Recall: 0.6666666666666666\n",
            "F1: 0.6956521739130435\n"
          ]
        }
      ],
      "source": [
        "y_pred = np.array([0, 1, 1, 1, 1, 1, 1, 1, 1, 0, 1, 0, 1, 1, 0, 0, 0, 0, 0, 1])\n",
        "y_real = np.array([1, 1, 1, 1, 1, 1, 1, 1, 0, 1, 1, 1, 0, 0, 0, 0, 0, 0, 0, 0])\n",
        "accuracy, precision, recall, f1 = calculate_performances(y_pred, y_real)\n",
        "print(\"Accuracy:\", accuracy)\n",
        "print(\"Precision:\", precision)\n",
        "print(\"Recall:\", recall)\n",
        "print(\"F1:\", f1)"
      ]
    },
    {
      "cell_type": "markdown",
      "id": "03ae59d3",
      "metadata": {
        "deletable": false,
        "editable": false,
        "nbgrader": {
          "cell_type": "markdown",
          "checksum": "2b64f1c4577dc58a892320ad6bf6799b",
          "grade": false,
          "grade_id": "cell-e480fadfb1c9bfe1",
          "locked": true,
          "schema_version": 3,
          "solution": false,
          "task": false
        },
        "id": "03ae59d3"
      },
      "source": [
        "### 3.3 TPR, FPR, AUC\n",
        "- sklearn 라이브러리를 사용하지 않고, 이진분류 모델의 예측 확률, 실제 label 및 threshold로부터 TPR, FPR을 구하는 `calculate_prs` 함수를 작성하세요.\n",
        "    - `y_pred_proba` > `threshold`일 때 모델은 해당 sample을 1이라고 분류합니다."
      ]
    },
    {
      "cell_type": "code",
      "execution_count": 17,
      "id": "ad2a27c7",
      "metadata": {
        "deletable": false,
        "nbgrader": {
          "cell_type": "code",
          "checksum": "b18f2c1f6c4150d3b3b9f749026f9950",
          "grade": false,
          "grade_id": "3-3",
          "locked": false,
          "schema_version": 3,
          "solution": true,
          "task": false
        },
        "id": "ad2a27c7"
      },
      "outputs": [],
      "source": [
        "def calculate_prs(y_pred_proba, y_real, threshold):\n",
        "    TPR = 0.0\n",
        "    FPR = 0.0\n",
        "\n",
        "    # YOUR CODE HERE\n",
        "    y_pred = y_pred_proba > threshold    \n",
        "    \n",
        "    tp = sum((y_pred == 1) & (y_real == 1))\n",
        "    tn = sum((y_pred == 0) & (y_real == 0))\n",
        "    fp = sum((y_pred == 0) & (y_real == 1))\n",
        "    fn = sum((y_pred == 1) & (y_real == 0))\n",
        "    \n",
        "    TPR = tp / (tp + fn)\n",
        "    FPR = fp / (fp + tn)\n",
        "    \n",
        "    # YOUR CODE ENDS HERE\n",
        "\n",
        "    return TPR, FPR"
      ]
    },
    {
      "cell_type": "markdown",
      "id": "64e954a4",
      "metadata": {
        "deletable": false,
        "editable": false,
        "nbgrader": {
          "cell_type": "markdown",
          "checksum": "f5b037eba41e5b4ef54fd5df99cdcd96",
          "grade": false,
          "grade_id": "cell-f6d635fc1236f46b",
          "locked": true,
          "schema_version": 3,
          "solution": false,
          "task": false
        },
        "id": "64e954a4"
      },
      "source": [
        "- 아래 셀을 실행하여 예시 입력에 대해 각 threshold에서의 TPR, FPR을 구해 보세요.\n",
        "- x축을 FPR, y축을 TPR로 하는 ROC Curve를 확인해 보세요."
      ]
    },
    {
      "cell_type": "code",
      "execution_count": 18,
      "id": "d6f8f602",
      "metadata": {
        "deletable": false,
        "editable": false,
        "nbgrader": {
          "cell_type": "code",
          "checksum": "cd774157cea0e957f78ca2571f4962ac",
          "grade": true,
          "grade_id": "3-3_test",
          "locked": true,
          "points": 1,
          "schema_version": 3,
          "solution": false,
          "task": false
        },
        "colab": {
          "base_uri": "https://localhost:8080/",
          "height": 733
        },
        "id": "d6f8f602",
        "outputId": "c7cfe09e-ad20-4187-ccfc-bd925aae537c"
      },
      "outputs": [
        {
          "output_type": "stream",
          "name": "stdout",
          "text": [
            "Threshold=1.986, TPR=nan, FPR=0.550 \n",
            "Threshold=0.986, TPR=nan, FPR=0.550 \n",
            "Threshold=0.980, TPR=1.000, FPR=0.526 \n",
            "Threshold=0.893, TPR=1.000, FPR=0.500 \n",
            "Threshold=0.844, TPR=1.000, FPR=0.471 \n",
            "Threshold=0.699, TPR=1.000, FPR=0.438 \n",
            "Threshold=0.666, TPR=0.800, FPR=0.467 \n",
            "Threshold=0.649, TPR=0.667, FPR=0.500 \n",
            "Threshold=0.626, TPR=0.714, FPR=0.462 \n",
            "Threshold=0.622, TPR=0.750, FPR=0.417 \n",
            "Threshold=0.616, TPR=0.778, FPR=0.364 \n",
            "Threshold=0.589, TPR=0.800, FPR=0.300 \n",
            "Threshold=0.536, TPR=0.727, FPR=0.333 \n",
            "Threshold=0.529, TPR=0.667, FPR=0.375 \n",
            "Threshold=0.529, TPR=0.615, FPR=0.429 \n",
            "Threshold=0.482, TPR=0.643, FPR=0.333 \n",
            "Threshold=0.406, TPR=0.600, FPR=0.400 \n",
            "Threshold=0.345, TPR=0.562, FPR=0.500 \n",
            "Threshold=0.331, TPR=0.588, FPR=0.333 \n",
            "Threshold=0.094, TPR=0.611, FPR=0.000 \n",
            "Threshold=0.033, TPR=0.579, FPR=0.000 \n"
          ]
        },
        {
          "output_type": "stream",
          "name": "stderr",
          "text": [
            "/usr/local/lib/python3.7/dist-packages/ipykernel_launcher.py:13: RuntimeWarning: invalid value encountered in long_scalars\n",
            "  del sys.path[0]\n"
          ]
        },
        {
          "output_type": "execute_result",
          "data": {
            "text/plain": [
              "Text(0.5, 1.0, 'ROC Curve')"
            ]
          },
          "metadata": {},
          "execution_count": 18
        },
        {
          "output_type": "display_data",
          "data": {
            "text/plain": [
              "<Figure size 432x288 with 1 Axes>"
            ],
            "image/png": "[encoded data removed]"
          },
          "metadata": {
            "needs_background": "light"
          }
        }
      ],
      "source": [
        "import matplotlib.pyplot as plt\n",
        "\n",
        "y_pred_proba = np.array(\n",
        "    [\n",
        "        0.62574153,\n",
        "        0.62212357,\n",
        "        0.64912789,\n",
        "        0.98636048,\n",
        "        0.84379945,\n",
        "        0.61600836,\n",
        "        0.33085066,\n",
        "        0.34542886,\n",
        "        0.58859945,\n",
        "        0.97971037,\n",
        "        0.52886705,\n",
        "        0.89255893,\n",
        "        0.69924888,\n",
        "        0.66564046,\n",
        "        0.52909411,\n",
        "        0.4817106,\n",
        "        0.03277238,\n",
        "        0.53550684,\n",
        "        0.40602853,\n",
        "        0.09380067,\n",
        "    ]\n",
        ")\n",
        "y_real = np.array([1, 1, 1, 1, 1, 1, 1, 1, 0, 1, 1, 1, 0, 0, 0, 0, 0, 0, 0, 0])\n",
        "thresholds = np.sort(list(y_pred_proba) + [np.max(y_pred_proba) + 1])[::-1]\n",
        "tpr_fpr_by_threshold = [calculate_prs(y_pred_proba, y_real, th) for th in thresholds]\n",
        "tprs, fprs = list(zip(*tpr_fpr_by_threshold))\n",
        "for th, tpr, fpr in zip(thresholds, tprs, fprs):\n",
        "    print(f\"Threshold={th:.3f}, TPR={tpr:.3f}, FPR={fpr:.3f} \")\n",
        "\n",
        "\n",
        "plt.plot(fprs, tprs)\n",
        "plt.xlabel(\"FPR\")\n",
        "plt.ylabel(\"TPR\")\n",
        "plt.title(\"ROC Curve\")\n"
      ]
    },
    {
      "cell_type": "markdown",
      "id": "01cae493",
      "metadata": {
        "id": "01cae493"
      },
      "source": [
        "---"
      ]
    },
    {
      "cell_type": "markdown",
      "id": "a8e424fb",
      "metadata": {
        "id": "a8e424fb"
      },
      "source": [
        "# 수고하셨습니다!"
      ]
    }
  ],
  "metadata": {
    "kernelspec": {
      "display_name": "Python 3 (ipykernel)",
      "language": "python",
      "name": "python3"
    },
    "language_info": {
      "codemirror_mode": {
        "name": "ipython",
        "version": 3
      },
      "file_extension": ".py",
      "mimetype": "text/x-python",
      "name": "python",
      "nbconvert_exporter": "python",
      "pygments_lexer": "ipython3",
      "version": "3.8.9"
    },
    "colab": {
      "provenance": [],
      "include_colab_link": true
    }
  },
  "nbformat": 4,
  "nbformat_minor": 5
}